{
    "cells": [
        {
            "cell_type": "markdown",
            "source": [
                "# Test of Avanza API"
            ],
            "metadata": {}
        },
        {
            "cell_type": "code",
            "execution_count": null,
            "source": [
                "import avanza\r\n"
            ],
            "outputs": [],
            "metadata": {}
        },
        {
            "cell_type": "code",
            "execution_count": null,
            "source": [
                "## För att aktivera inloggning\r\n",
                "import hashlib\r\n",
                "import pyotp\r\n",
                "totp = pyotp.TOTP('TOTP_ID', digest=hashlib.sha1)\r\n",
                "print(totp.now())"
            ],
            "outputs": [],
            "metadata": {}
        },
        {
            "cell_type": "code",
            "execution_count": 3,
            "source": [
                "# Login and authenticate\r\n",
                "\r\n",
                "from avanza import Avanza\r\n",
                "\r\n",
                "\r\n",
                "# avanza = Avanza({\r\n",
                "#     'username': 'username',\r\n",
                "#     'password': 'password',\r\n",
                "#     'totpSecret': 'TOTP'\r\n",
                "# })\r\n",
                "\r\n",
                "\r\n",
                "import SECRETS\r\n",
                "avanza = SECRETS.avanza\r\n",
                "\r\n",
                "\r\n",
                "overview = avanza.get_overview()"
            ],
            "outputs": [],
            "metadata": {}
        },
        {
            "cell_type": "code",
            "execution_count": null,
            "source": [
                "# Info about a specific account\r\n",
                "from avanza import Avanza, TimePeriod\r\n",
                "\r\n",
                "report = avanza.get_insights_report(\r\n",
                "    account_id='8327730',\r\n",
                "    time_period=TimePeriod.ONE_WEEK\r\n",
                ")"
            ],
            "outputs": [],
            "metadata": {}
        },
        {
            "cell_type": "code",
            "execution_count": null,
            "source": [
                "# Get Stock Information\r\n",
                "\r\n",
                "print(avanza.get_stock_info(stock_id='3323'))"
            ],
            "outputs": [],
            "metadata": {}
        },
        {
            "cell_type": "code",
            "execution_count": null,
            "source": [
                "omx = avanza.get_index_info(index_id='19002')\r\n",
                "dji = avanza.get_index_info(index_id='18985')\r\n",
                "\r\n"
            ],
            "outputs": [],
            "metadata": {}
        }
    ],
    "metadata": {
        "orig_nbformat": 4,
        "language_info": {
            "name": "python",
            "version": "3.8.3",
            "mimetype": "text/x-python",
            "codemirror_mode": {
                "name": "ipython",
                "version": 3
            },
            "pygments_lexer": "ipython3",
            "nbconvert_exporter": "python",
            "file_extension": ".py"
        },
        "kernelspec": {
            "name": "python3",
            "display_name": "Python 3.8.3 32-bit"
        },
        "interpreter": {
            "hash": "9b95a69dfe9bf62f5a42cf59c2472edbf434f42c62412b1137891f640394326b"
        }
    },
    "nbformat": 4,
    "nbformat_minor": 2
}